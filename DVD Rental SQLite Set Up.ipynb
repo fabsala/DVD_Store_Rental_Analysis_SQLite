{
 "cells": [
  {
   "cell_type": "markdown",
   "id": "caaa2610-1b8c-4947-8b4c-294065548df3",
   "metadata": {},
   "source": [
    "# **DVD Rental Data Project**"
   ]
  },
  {
   "cell_type": "markdown",
   "id": "96b6c215-fd21-4892-8541-7678117d4e1c",
   "metadata": {},
   "source": [
    "## **Project Overview**\n",
    "\n",
    "This project was created to equip our DVD Rental company with a set of tools that will facilitate data-driven decision-making and support the **growth and success of our operations**.\n",
    "\n",
    "The project is divided into **three stages**:\n",
    "\n",
    "### **Stage 1: Database Creation**\n",
    "We will create a SQLite database named **dvdrental.db** and populate it with the company’s historical data, which is currently stored in multiple CSV files. These files, compiled in **csv_zip.zip**, have served as a temporary data storage solution.\n",
    "\n",
    "### **Stage 2: Data Analysis**\n",
    "Using Pandas, we will perform an in-depth analysis to extract actionable insights and uncover patterns that can help optimize our processes and better understand our customer base.\n",
    "\n",
    "### **Visualization & Dashboard**\n",
    "Finally, we will build an interactive Power BI dashboard to provide the management team with near-real-time insights, enabling more informed and timely decisions.\n",
    "\n",
    "---"
   ]
  },
  {
   "cell_type": "markdown",
   "id": "aca0fefc-b135-46cd-8be9-bd49bbe93bf8",
   "metadata": {},
   "source": [
    "## **Stage 1: Database Creation**\n",
    "- Create a SQLite database named **`dvdrental.db`**.  \n",
    "- Populate it with the company’s historical data, which is currently stored in multiple CSV files.  \n",
    "- These files, compiled in **`csv_zip.zip`**, have been used as a temporary data storage solution.\n",
    "\n",
    "We are going to use Python and the sqlite3 library to set up the database, zipfile to extract the CSV files and Pandas to preview each file before adding constraints.\n",
    "\n",
    "---"
   ]
  },
  {
   "cell_type": "code",
   "execution_count": 4,
   "id": "2b3de087-d99c-444d-95b5-108abcc3a0b6",
   "metadata": {},
   "outputs": [],
   "source": [
    "import sqlite3 as sql\n",
    "import pandas as pd\n",
    "import glob as glob\n",
    "import os\n",
    "import zipfile"
   ]
  },
  {
   "cell_type": "code",
   "execution_count": 5,
   "id": "c0bf8e9f-a36f-4481-b15b-eb74768d615b",
   "metadata": {},
   "outputs": [],
   "source": [
    "# dest_folder = '\\\\Databases'"
   ]
  },
  {
   "cell_type": "code",
   "execution_count": 6,
   "id": "92659a39-c137-44c3-9979-4e10ffd7703d",
   "metadata": {},
   "outputs": [],
   "source": [
    "db_name = \"dvdrental.db\""
   ]
  },
  {
   "cell_type": "code",
   "execution_count": 62,
   "id": "ca1042af-530d-4970-8a6c-a96c684804fe",
   "metadata": {},
   "outputs": [],
   "source": [
    "origin = \"csv_zip.zip\""
   ]
  },
  {
   "cell_type": "markdown",
   "id": "d49c818b-391a-4674-8fc3-a7c627a4d78a",
   "metadata": {
    "jp-MarkdownHeadingCollapsed": true
   },
   "source": [
    "### Database creation\n",
    "\n",
    "This script creates the .db file (database file), extracts each file from the zip file with a loop, reads it and saves it in the database with Pandas, and closes the connection."
   ]
  },
  {
   "cell_type": "code",
   "execution_count": 63,
   "id": "59ad5269-91fd-45b6-9178-c8e65f3494ed",
   "metadata": {},
   "outputs": [
    {
     "name": "stdout",
     "output_type": "stream",
     "text": [
      "Loaded country.csv into table country\n",
      "Loaded film_category.csv into table film_category\n",
      "Loaded store.csv into table store\n",
      "Loaded staff.csv into table staff\n",
      "Loaded film.csv into table film\n",
      "Loaded city.csv into table city\n",
      "Loaded address.csv into table address\n",
      "Loaded customer.csv into table customer\n",
      "Loaded inventory.csv into table inventory\n",
      "Loaded category.csv into table category\n",
      "Loaded actor.csv into table actor\n",
      "Loaded language.csv into table language\n",
      "Loaded film_actor.csv into table film_actor\n",
      "Loaded rental.csv into table rental\n"
     ]
    }
   ],
   "source": [
    "#with sql.connect(os.path.join(dest_folder, db_name)) as conn:\n",
    "with sql.connect(db_name) as conn:\n",
    "    # df_dict = {}\n",
    "    with zipfile.ZipFile(origin) as z:\n",
    "        for file_name in z.namelist():\n",
    "            if file_name.endswith('.csv'):\n",
    "                table = os.path.splitext(file_name)[0]\n",
    "                with z.open(file_name) as f:\n",
    "                    df = pd.read_csv(f)\n",
    "                    df.to_sql(table, conn, if_exists='replace', index=False)\n",
    "                    # df_dict[os.path.splitext(file_name)[0]] = pd.read_csv(f)\n",
    "                    print(f'Loaded {file_name} into table {table}')"
   ]
  },
  {
   "cell_type": "code",
   "execution_count": 66,
   "id": "d0bed092-bbcd-4c0b-bd21-d7e0a5b61593",
   "metadata": {},
   "outputs": [],
   "source": [
    "# db = os.path.join(dest_folder, db_name)"
   ]
  },
  {
   "cell_type": "markdown",
   "id": "00b6c01d-b3d6-467e-8db0-eecf30f176f0",
   "metadata": {
    "jp-MarkdownHeadingCollapsed": true
   },
   "source": [
    "### Confirming tables\n",
    "\n",
    "Here we check all the tables that now exist in the .db file"
   ]
  },
  {
   "cell_type": "code",
   "execution_count": 66,
   "id": "3dd68d97-7a41-4542-8053-1135c5f29194",
   "metadata": {},
   "outputs": [
    {
     "name": "stdout",
     "output_type": "stream",
     "text": [
      "Tables in db:\n",
      "- country_old\n",
      "- film_category_old\n",
      "- store_old\n",
      "- staff_old\n",
      "- film_old\n",
      "- city_old\n",
      "- address_old\n",
      "- customer_old\n",
      "- inventory_old\n",
      "- category_old\n",
      "- actor_old\n",
      "- language_old\n",
      "- film_actor_old\n",
      "- rental_old\n"
     ]
    }
   ],
   "source": [
    "with sql.connect(db_name) as conn:\n",
    "    cursor = conn.cursor()\n",
    "    cursor.execute(\"SELECT name FROM sqlite_master WHERE type = 'table';\")\n",
    "    tables = cursor.fetchall()\n",
    "\n",
    "    print(\"Tables in db:\")\n",
    "\n",
    "    for table in tables:\n",
    "        print(\"-\", table[0])"
   ]
  },
  {
   "cell_type": "markdown",
   "id": "c8285662-7184-4d33-9b28-0f596871ca47",
   "metadata": {},
   "source": [
    "### Query Function\n",
    "\n",
    "Now we define the query that will be used to read and write to the database. It handles SELECT statements with cursor.fetchall(), and statements that write to the database with conn.commit().\n",
    "\n",
    "In SQLite, foreign keys are disabled by default, so we pass the conn.execute(\"PRAGMA foreign_keys = ON;\") instruction so that they are enabled for every connection."
   ]
  },
  {
   "cell_type": "code",
   "execution_count": 83,
   "id": "f402f6e5-e231-470b-a76c-324e2bc2b2be",
   "metadata": {},
   "outputs": [],
   "source": [
    "def query_func(dbase: str, query:\"str\", params: tuple | list | None =None):\n",
    "    try:\n",
    "        with sql.connect(dbase) as conn:\n",
    "            \n",
    "            conn.execute(\"PRAGMA foreign_keys = ON;\")\n",
    "            cursor = conn.cursor()\n",
    "            cursor.execute(query, params or ())\n",
    "\n",
    "            # query_type = query.strip().split()[0].upper()\n",
    "            # print(f\"Running a {query_type} query...\")\n",
    "    \n",
    "            # Define behavior for SELECT queries\n",
    "            # if query.strip().upper().startswith(\"SELECT\"):\n",
    "            if cursor.description:\n",
    "                # Get column names\n",
    "                columns = [desc[0] for desc in cursor.description]\n",
    "        \n",
    "                # Fetch data\n",
    "                data = cursor.fetchall()\n",
    "        \n",
    "                # Return DataFrame        \n",
    "                return pd.DataFrame(data, columns=columns)\n",
    "            # For write operations\n",
    "            conn.commit()\n",
    "            return cursor.rowcount\n",
    " \n",
    "    except sql.Error as e:\n",
    "        print(f\"SQLite Error: {e}\")\n",
    "        raise\n",
    "        "
   ]
  },
  {
   "cell_type": "markdown",
   "id": "779d3575-8ad4-4142-88b7-47c32738e866",
   "metadata": {},
   "source": [
    "### Adding Constraints\n",
    "\n",
    "To add constraints we need to follow a set of steps that are necessary when working with SQLite3. This is because in SQLite we can only rename tables and add new columns but won't allow constraints to be added to existing tables:\n",
    "\n",
    "1. Use ALTER TABLE to change the name of a table\n",
    "2. CREATE TABLE to create the new table with the original name and add the constraints\n",
    "3. INSERT INTO and SELECT to move all rows from the old tables to the new ones\n",
    "4. DROP TABLE to remove the previous versions of the tables. "
   ]
  },
  {
   "cell_type": "markdown",
   "id": "3dfeb2de-7dd0-4400-bf82-781dadb9f573",
   "metadata": {
    "jp-MarkdownHeadingCollapsed": true
   },
   "source": [
    "#### 1. Use ALTER TABLE to change the name of a table\n",
    "\n",
    "Now we need to change the names of the existing tables to later replace them with the constrained versions. We also need to load the tables into dataframes so we can inspect them and know what constraints need to be applied.\n",
    "\n",
    "We acomplish that here, first cleaning the names and then using a loop to query each table, load them into dataframes and store them inside a dictionary. Finally, we loop through each table in the dictionary to use an ALTER TABLE query that ultimately renames all tables in the database."
   ]
  },
  {
   "cell_type": "code",
   "execution_count": 33,
   "id": "b0456a0d-2aac-46bf-bf29-7c00c49f3513",
   "metadata": {},
   "outputs": [
    {
     "data": {
      "text/plain": [
       "['country',\n",
       " 'film_category',\n",
       " 'store',\n",
       " 'staff',\n",
       " 'film',\n",
       " 'city',\n",
       " 'address',\n",
       " 'customer',\n",
       " 'inventory',\n",
       " 'category',\n",
       " 'actor',\n",
       " 'language',\n",
       " 'film_actor',\n",
       " 'rental']"
      ]
     },
     "execution_count": 33,
     "metadata": {},
     "output_type": "execute_result"
    }
   ],
   "source": [
    "tables_clean = []\n",
    "for table in tables:\n",
    "    tables_clean.append(table[0])\n",
    "\n",
    "tables_clean"
   ]
  },
  {
   "cell_type": "code",
   "execution_count": 75,
   "id": "c1c54315-3011-4f72-a6c6-ac9216c6bf38",
   "metadata": {},
   "outputs": [
    {
     "name": "stdout",
     "output_type": "stream",
     "text": [
      "Running a SELECT query...\n",
      "country was successfully added to df_dict\n",
      "Running a SELECT query...\n",
      "film_category was successfully added to df_dict\n",
      "Running a SELECT query...\n",
      "store was successfully added to df_dict\n",
      "Running a SELECT query...\n",
      "staff was successfully added to df_dict\n",
      "Running a SELECT query...\n",
      "film was successfully added to df_dict\n",
      "Running a SELECT query...\n",
      "city was successfully added to df_dict\n",
      "Running a SELECT query...\n",
      "address was successfully added to df_dict\n",
      "Running a SELECT query...\n",
      "customer was successfully added to df_dict\n",
      "Running a SELECT query...\n",
      "inventory was successfully added to df_dict\n",
      "Running a SELECT query...\n",
      "category was successfully added to df_dict\n",
      "Running a SELECT query...\n",
      "actor was successfully added to df_dict\n",
      "Running a SELECT query...\n",
      "language was successfully added to df_dict\n",
      "Running a SELECT query...\n",
      "film_actor was successfully added to df_dict\n",
      "Running a SELECT query...\n",
      "rental was successfully added to df_dict\n"
     ]
    }
   ],
   "source": [
    "df_dict = {}\n",
    "\n",
    "for table in tables_clean:\n",
    "    df_dict[table] = query_func(db_name, f\"SELECT * FROM {table};\")\n",
    "    print(f\"{table} was successfully added to df_dict\")"
   ]
  },
  {
   "cell_type": "code",
   "execution_count": 76,
   "id": "82fd7ee8-893e-4fbb-965e-d0f24a601055",
   "metadata": {},
   "outputs": [
    {
     "data": {
      "text/plain": [
       "dict_keys(['country', 'film_category', 'store', 'staff', 'film', 'city', 'address', 'customer', 'inventory', 'category', 'actor', 'language', 'film_actor', 'rental'])"
      ]
     },
     "execution_count": 76,
     "metadata": {},
     "output_type": "execute_result"
    }
   ],
   "source": [
    "df_dict.keys()"
   ]
  },
  {
   "cell_type": "code",
   "execution_count": 65,
   "id": "e259f879-3c80-422c-9bda-09ee45639a5b",
   "metadata": {},
   "outputs": [
    {
     "name": "stdout",
     "output_type": "stream",
     "text": [
      "Running a ALTER query...\n",
      "Running a ALTER query...\n",
      "Running a ALTER query...\n",
      "Running a ALTER query...\n",
      "Running a ALTER query...\n",
      "Running a ALTER query...\n",
      "Running a ALTER query...\n",
      "Running a ALTER query...\n",
      "Running a ALTER query...\n",
      "Running a ALTER query...\n",
      "Running a ALTER query...\n",
      "Running a ALTER query...\n",
      "Running a ALTER query...\n",
      "Running a ALTER query...\n"
     ]
    }
   ],
   "source": [
    "for table in tables_clean:\n",
    "    query_func(db_name, f\"ALTER TABLE {table} RENAME TO {table}_old;\")"
   ]
  },
  {
   "cell_type": "markdown",
   "id": "97af9bfd-190e-44d9-bf02-0befad708086",
   "metadata": {},
   "source": [
    "#### 2. CREATE TABLE to create the new table with the original name and add the constraints\n",
    "\n",
    "Here we start using Pandas to preview each table, check if it contains null values and then use the query function to create the new version of each table."
   ]
  },
  {
   "cell_type": "code",
   "execution_count": 64,
   "id": "0dcbdb1e-c1f4-437b-91c2-45fe1e54174c",
   "metadata": {},
   "outputs": [
    {
     "data": {
      "text/html": [
       "<div>\n",
       "<style scoped>\n",
       "    .dataframe tbody tr th:only-of-type {\n",
       "        vertical-align: middle;\n",
       "    }\n",
       "\n",
       "    .dataframe tbody tr th {\n",
       "        vertical-align: top;\n",
       "    }\n",
       "\n",
       "    .dataframe thead th {\n",
       "        text-align: right;\n",
       "    }\n",
       "</style>\n",
       "<table border=\"1\" class=\"dataframe\">\n",
       "  <thead>\n",
       "    <tr style=\"text-align: right;\">\n",
       "      <th></th>\n",
       "      <th>country_id</th>\n",
       "      <th>country</th>\n",
       "      <th>last_update</th>\n",
       "    </tr>\n",
       "  </thead>\n",
       "  <tbody>\n",
       "    <tr>\n",
       "      <th>0</th>\n",
       "      <td>1</td>\n",
       "      <td>Afghanistan</td>\n",
       "      <td>2006-02-15 09:44:00</td>\n",
       "    </tr>\n",
       "    <tr>\n",
       "      <th>1</th>\n",
       "      <td>2</td>\n",
       "      <td>Algeria</td>\n",
       "      <td>2006-02-15 09:44:00</td>\n",
       "    </tr>\n",
       "    <tr>\n",
       "      <th>2</th>\n",
       "      <td>3</td>\n",
       "      <td>American Samoa</td>\n",
       "      <td>2006-02-15 09:44:00</td>\n",
       "    </tr>\n",
       "    <tr>\n",
       "      <th>3</th>\n",
       "      <td>4</td>\n",
       "      <td>Angola</td>\n",
       "      <td>2006-02-15 09:44:00</td>\n",
       "    </tr>\n",
       "    <tr>\n",
       "      <th>4</th>\n",
       "      <td>5</td>\n",
       "      <td>Anguilla</td>\n",
       "      <td>2006-02-15 09:44:00</td>\n",
       "    </tr>\n",
       "  </tbody>\n",
       "</table>\n",
       "</div>"
      ],
      "text/plain": [
       "   country_id         country          last_update\n",
       "0           1     Afghanistan  2006-02-15 09:44:00\n",
       "1           2         Algeria  2006-02-15 09:44:00\n",
       "2           3  American Samoa  2006-02-15 09:44:00\n",
       "3           4          Angola  2006-02-15 09:44:00\n",
       "4           5        Anguilla  2006-02-15 09:44:00"
      ]
     },
     "execution_count": 64,
     "metadata": {},
     "output_type": "execute_result"
    }
   ],
   "source": [
    "df_dict[\"country\"].head()"
   ]
  },
  {
   "cell_type": "code",
   "execution_count": 77,
   "id": "a6434854-34c5-4d33-9d38-b74acb7e51e7",
   "metadata": {},
   "outputs": [
    {
     "name": "stdout",
     "output_type": "stream",
     "text": [
      "<class 'pandas.core.frame.DataFrame'>\n",
      "RangeIndex: 109 entries, 0 to 108\n",
      "Data columns (total 3 columns):\n",
      " #   Column       Non-Null Count  Dtype \n",
      "---  ------       --------------  ----- \n",
      " 0   country_id   109 non-null    int64 \n",
      " 1   country      109 non-null    object\n",
      " 2   last_update  109 non-null    object\n",
      "dtypes: int64(1), object(2)\n",
      "memory usage: 2.7+ KB\n"
     ]
    }
   ],
   "source": [
    "df_dict[\"country\"].info()"
   ]
  },
  {
   "cell_type": "code",
   "execution_count": 68,
   "id": "5f829f4c-b2cd-4a3c-9977-401293ad2788",
   "metadata": {},
   "outputs": [
    {
     "name": "stdout",
     "output_type": "stream",
     "text": [
      "Running a CREATE query...\n"
     ]
    },
    {
     "data": {
      "text/plain": [
       "-1"
      ]
     },
     "execution_count": 68,
     "metadata": {},
     "output_type": "execute_result"
    }
   ],
   "source": [
    "query_func(\n",
    "    db_name,\n",
    "\n",
    "   \"\"\"\n",
    "   CREATE TABLE country (\n",
    "       country_id INTEGER PRIMARY KEY,\n",
    "       country TEXT NOT NULL,\n",
    "       last_update DATETIME DEFAULT CURRENT_TIMESTAMP\n",
    "   )\n",
    "\n",
    "   \"\"\"\n",
    "           \n",
    ")"
   ]
  },
  {
   "cell_type": "code",
   "execution_count": 69,
   "id": "2b247143-222d-4d94-8a7d-7f67179e6161",
   "metadata": {},
   "outputs": [
    {
     "data": {
      "text/html": [
       "<div>\n",
       "<style scoped>\n",
       "    .dataframe tbody tr th:only-of-type {\n",
       "        vertical-align: middle;\n",
       "    }\n",
       "\n",
       "    .dataframe tbody tr th {\n",
       "        vertical-align: top;\n",
       "    }\n",
       "\n",
       "    .dataframe thead th {\n",
       "        text-align: right;\n",
       "    }\n",
       "</style>\n",
       "<table border=\"1\" class=\"dataframe\">\n",
       "  <thead>\n",
       "    <tr style=\"text-align: right;\">\n",
       "      <th></th>\n",
       "      <th>actor_id</th>\n",
       "      <th>first_name</th>\n",
       "      <th>last_name</th>\n",
       "      <th>last_update</th>\n",
       "    </tr>\n",
       "  </thead>\n",
       "  <tbody>\n",
       "    <tr>\n",
       "      <th>0</th>\n",
       "      <td>1</td>\n",
       "      <td>Penelope</td>\n",
       "      <td>Guiness</td>\n",
       "      <td>2013-05-26 14:47:57.62</td>\n",
       "    </tr>\n",
       "    <tr>\n",
       "      <th>1</th>\n",
       "      <td>2</td>\n",
       "      <td>Nick</td>\n",
       "      <td>Wahlberg</td>\n",
       "      <td>2013-05-26 14:47:57.62</td>\n",
       "    </tr>\n",
       "    <tr>\n",
       "      <th>2</th>\n",
       "      <td>3</td>\n",
       "      <td>Ed</td>\n",
       "      <td>Chase</td>\n",
       "      <td>2013-05-26 14:47:57.62</td>\n",
       "    </tr>\n",
       "    <tr>\n",
       "      <th>3</th>\n",
       "      <td>4</td>\n",
       "      <td>Jennifer</td>\n",
       "      <td>Davis</td>\n",
       "      <td>2013-05-26 14:47:57.62</td>\n",
       "    </tr>\n",
       "    <tr>\n",
       "      <th>4</th>\n",
       "      <td>5</td>\n",
       "      <td>Johnny</td>\n",
       "      <td>Lollobrigida</td>\n",
       "      <td>2013-05-26 14:47:57.62</td>\n",
       "    </tr>\n",
       "  </tbody>\n",
       "</table>\n",
       "</div>"
      ],
      "text/plain": [
       "   actor_id first_name     last_name             last_update\n",
       "0         1   Penelope       Guiness  2013-05-26 14:47:57.62\n",
       "1         2       Nick      Wahlberg  2013-05-26 14:47:57.62\n",
       "2         3         Ed         Chase  2013-05-26 14:47:57.62\n",
       "3         4   Jennifer         Davis  2013-05-26 14:47:57.62\n",
       "4         5     Johnny  Lollobrigida  2013-05-26 14:47:57.62"
      ]
     },
     "execution_count": 69,
     "metadata": {},
     "output_type": "execute_result"
    }
   ],
   "source": [
    "df_dict['actor'].head()"
   ]
  },
  {
   "cell_type": "code",
   "execution_count": 78,
   "id": "507f5f32-243a-496b-b7a8-13fa844ee06a",
   "metadata": {},
   "outputs": [
    {
     "name": "stdout",
     "output_type": "stream",
     "text": [
      "<class 'pandas.core.frame.DataFrame'>\n",
      "RangeIndex: 200 entries, 0 to 199\n",
      "Data columns (total 4 columns):\n",
      " #   Column       Non-Null Count  Dtype \n",
      "---  ------       --------------  ----- \n",
      " 0   actor_id     200 non-null    int64 \n",
      " 1   first_name   200 non-null    object\n",
      " 2   last_name    200 non-null    object\n",
      " 3   last_update  200 non-null    object\n",
      "dtypes: int64(1), object(3)\n",
      "memory usage: 6.4+ KB\n"
     ]
    }
   ],
   "source": [
    "df_dict['actor'].info()"
   ]
  },
  {
   "cell_type": "code",
   "execution_count": 72,
   "id": "15d92479-2ecc-40e0-880a-28a4f23be941",
   "metadata": {},
   "outputs": [
    {
     "name": "stdout",
     "output_type": "stream",
     "text": [
      "Running a CREATE query...\n"
     ]
    },
    {
     "data": {
      "text/plain": [
       "-1"
      ]
     },
     "execution_count": 72,
     "metadata": {},
     "output_type": "execute_result"
    }
   ],
   "source": [
    "query_func(\n",
    "    db_name,\n",
    "\n",
    "   \"\"\"\n",
    "    \n",
    "   \n",
    "   CREATE TABLE actor (\n",
    "       actor_id INTEGER PRIMARY KEY,\n",
    "       first_name TEXT NOT NULL,\n",
    "       last_name TEXT NOT NULL,\n",
    "       last_update DATETIME DEFAULT CURRENT_TIMESTAMP\n",
    "   )\n",
    "\n",
    "   \"\"\"\n",
    "           \n",
    ")"
   ]
  },
  {
   "cell_type": "code",
   "execution_count": 80,
   "id": "89106884-db7e-4ecf-83b6-2488ed15434a",
   "metadata": {},
   "outputs": [
    {
     "name": "stdout",
     "output_type": "stream",
     "text": [
      "<class 'pandas.core.frame.DataFrame'>\n",
      "RangeIndex: 600 entries, 0 to 599\n",
      "Data columns (total 4 columns):\n",
      " #   Column       Non-Null Count  Dtype \n",
      "---  ------       --------------  ----- \n",
      " 0   city_id      600 non-null    int64 \n",
      " 1   city         600 non-null    object\n",
      " 2   country_id   600 non-null    int64 \n",
      " 3   last_update  600 non-null    object\n",
      "dtypes: int64(2), object(2)\n",
      "memory usage: 18.9+ KB\n"
     ]
    }
   ],
   "source": [
    "df_dict['city'].info()"
   ]
  },
  {
   "cell_type": "code",
   "execution_count": 82,
   "id": "a134ae64-dabe-4085-82a8-55b3417841c6",
   "metadata": {},
   "outputs": [
    {
     "data": {
      "text/html": [
       "<div>\n",
       "<style scoped>\n",
       "    .dataframe tbody tr th:only-of-type {\n",
       "        vertical-align: middle;\n",
       "    }\n",
       "\n",
       "    .dataframe tbody tr th {\n",
       "        vertical-align: top;\n",
       "    }\n",
       "\n",
       "    .dataframe thead th {\n",
       "        text-align: right;\n",
       "    }\n",
       "</style>\n",
       "<table border=\"1\" class=\"dataframe\">\n",
       "  <thead>\n",
       "    <tr style=\"text-align: right;\">\n",
       "      <th></th>\n",
       "      <th>city_id</th>\n",
       "      <th>city</th>\n",
       "      <th>country_id</th>\n",
       "      <th>last_update</th>\n",
       "    </tr>\n",
       "  </thead>\n",
       "  <tbody>\n",
       "    <tr>\n",
       "      <th>0</th>\n",
       "      <td>1</td>\n",
       "      <td>A Corua (La Corua)</td>\n",
       "      <td>87</td>\n",
       "      <td>2006-02-15 09:45:25</td>\n",
       "    </tr>\n",
       "    <tr>\n",
       "      <th>1</th>\n",
       "      <td>2</td>\n",
       "      <td>Abha</td>\n",
       "      <td>82</td>\n",
       "      <td>2006-02-15 09:45:25</td>\n",
       "    </tr>\n",
       "    <tr>\n",
       "      <th>2</th>\n",
       "      <td>3</td>\n",
       "      <td>Abu Dhabi</td>\n",
       "      <td>101</td>\n",
       "      <td>2006-02-15 09:45:25</td>\n",
       "    </tr>\n",
       "    <tr>\n",
       "      <th>3</th>\n",
       "      <td>4</td>\n",
       "      <td>Acua</td>\n",
       "      <td>60</td>\n",
       "      <td>2006-02-15 09:45:25</td>\n",
       "    </tr>\n",
       "    <tr>\n",
       "      <th>4</th>\n",
       "      <td>5</td>\n",
       "      <td>Adana</td>\n",
       "      <td>97</td>\n",
       "      <td>2006-02-15 09:45:25</td>\n",
       "    </tr>\n",
       "  </tbody>\n",
       "</table>\n",
       "</div>"
      ],
      "text/plain": [
       "   city_id                city  country_id          last_update\n",
       "0        1  A Corua (La Corua)          87  2006-02-15 09:45:25\n",
       "1        2                Abha          82  2006-02-15 09:45:25\n",
       "2        3           Abu Dhabi         101  2006-02-15 09:45:25\n",
       "3        4                Acua          60  2006-02-15 09:45:25\n",
       "4        5               Adana          97  2006-02-15 09:45:25"
      ]
     },
     "execution_count": 82,
     "metadata": {},
     "output_type": "execute_result"
    }
   ],
   "source": [
    "df_dict['city'].head()"
   ]
  },
  {
   "cell_type": "code",
   "execution_count": 87,
   "id": "fe77138e-26be-461c-a153-35848f468cac",
   "metadata": {},
   "outputs": [
    {
     "data": {
      "text/plain": [
       "-1"
      ]
     },
     "execution_count": 87,
     "metadata": {},
     "output_type": "execute_result"
    }
   ],
   "source": [
    "query_func(\n",
    "    db_name,\n",
    "\n",
    "   \"\"\"\n",
    "   CREATE TABLE city (\n",
    "       city_id INTEGER PRIMARY KEY,\n",
    "       city TEXT NOT NULL,\n",
    "       country_id INTEGER NOT NULL,\n",
    "       last_update DATETIME DEFAULT CURRENT_TIMESTAMP,\n",
    "       FOREIGN KEY (country_id) REFERENCES country(country_id)\n",
    "   )\n",
    "\n",
    "   \"\"\"\n",
    "           \n",
    ")"
   ]
  },
  {
   "cell_type": "code",
   "execution_count": 79,
   "id": "6a2229b1-1c61-421e-98a8-e2819665f669",
   "metadata": {},
   "outputs": [
    {
     "name": "stdout",
     "output_type": "stream",
     "text": [
      "<class 'pandas.core.frame.DataFrame'>\n",
      "RangeIndex: 603 entries, 0 to 602\n",
      "Data columns (total 8 columns):\n",
      " #   Column       Non-Null Count  Dtype  \n",
      "---  ------       --------------  -----  \n",
      " 0   address_id   603 non-null    int64  \n",
      " 1   address      603 non-null    object \n",
      " 2   address2     0 non-null      object \n",
      " 3   district     600 non-null    object \n",
      " 4   city_id      603 non-null    int64  \n",
      " 5   postal_code  599 non-null    float64\n",
      " 6   phone        601 non-null    float64\n",
      " 7   last_update  603 non-null    object \n",
      "dtypes: float64(2), int64(2), object(4)\n",
      "memory usage: 37.8+ KB\n"
     ]
    }
   ],
   "source": [
    "df_dict['address'].info()"
   ]
  },
  {
   "cell_type": "code",
   "execution_count": 74,
   "id": "93c8ebfb-d863-47c3-b0d8-e4b23ae14dd6",
   "metadata": {},
   "outputs": [
    {
     "data": {
      "text/html": [
       "<div>\n",
       "<style scoped>\n",
       "    .dataframe tbody tr th:only-of-type {\n",
       "        vertical-align: middle;\n",
       "    }\n",
       "\n",
       "    .dataframe tbody tr th {\n",
       "        vertical-align: top;\n",
       "    }\n",
       "\n",
       "    .dataframe thead th {\n",
       "        text-align: right;\n",
       "    }\n",
       "</style>\n",
       "<table border=\"1\" class=\"dataframe\">\n",
       "  <thead>\n",
       "    <tr style=\"text-align: right;\">\n",
       "      <th></th>\n",
       "      <th>address_id</th>\n",
       "      <th>address</th>\n",
       "      <th>address2</th>\n",
       "      <th>district</th>\n",
       "      <th>city_id</th>\n",
       "      <th>postal_code</th>\n",
       "      <th>phone</th>\n",
       "      <th>last_update</th>\n",
       "    </tr>\n",
       "  </thead>\n",
       "  <tbody>\n",
       "    <tr>\n",
       "      <th>0</th>\n",
       "      <td>1</td>\n",
       "      <td>47 MySakila Drive</td>\n",
       "      <td>None</td>\n",
       "      <td>Alberta</td>\n",
       "      <td>300</td>\n",
       "      <td>NaN</td>\n",
       "      <td>NaN</td>\n",
       "      <td>2006-02-15 09:45:30</td>\n",
       "    </tr>\n",
       "    <tr>\n",
       "      <th>1</th>\n",
       "      <td>2</td>\n",
       "      <td>28 MySQL Boulevard</td>\n",
       "      <td>None</td>\n",
       "      <td>QLD</td>\n",
       "      <td>576</td>\n",
       "      <td>NaN</td>\n",
       "      <td>NaN</td>\n",
       "      <td>2006-02-15 09:45:30</td>\n",
       "    </tr>\n",
       "    <tr>\n",
       "      <th>2</th>\n",
       "      <td>3</td>\n",
       "      <td>23 Workhaven Lane</td>\n",
       "      <td>None</td>\n",
       "      <td>Alberta</td>\n",
       "      <td>300</td>\n",
       "      <td>NaN</td>\n",
       "      <td>1.403334e+10</td>\n",
       "      <td>2006-02-15 09:45:30</td>\n",
       "    </tr>\n",
       "    <tr>\n",
       "      <th>3</th>\n",
       "      <td>4</td>\n",
       "      <td>1411 Lillydale Drive</td>\n",
       "      <td>None</td>\n",
       "      <td>QLD</td>\n",
       "      <td>576</td>\n",
       "      <td>NaN</td>\n",
       "      <td>6.172236e+09</td>\n",
       "      <td>2006-02-15 09:45:30</td>\n",
       "    </tr>\n",
       "    <tr>\n",
       "      <th>4</th>\n",
       "      <td>5</td>\n",
       "      <td>1913 Hanoi Way</td>\n",
       "      <td>None</td>\n",
       "      <td>Nagasaki</td>\n",
       "      <td>463</td>\n",
       "      <td>35200.0</td>\n",
       "      <td>2.830338e+10</td>\n",
       "      <td>2006-02-15 09:45:30</td>\n",
       "    </tr>\n",
       "  </tbody>\n",
       "</table>\n",
       "</div>"
      ],
      "text/plain": [
       "   address_id               address address2  district  city_id  postal_code  \\\n",
       "0           1     47 MySakila Drive     None   Alberta      300          NaN   \n",
       "1           2    28 MySQL Boulevard     None       QLD      576          NaN   \n",
       "2           3     23 Workhaven Lane     None   Alberta      300          NaN   \n",
       "3           4  1411 Lillydale Drive     None       QLD      576          NaN   \n",
       "4           5        1913 Hanoi Way     None  Nagasaki      463      35200.0   \n",
       "\n",
       "          phone          last_update  \n",
       "0           NaN  2006-02-15 09:45:30  \n",
       "1           NaN  2006-02-15 09:45:30  \n",
       "2  1.403334e+10  2006-02-15 09:45:30  \n",
       "3  6.172236e+09  2006-02-15 09:45:30  \n",
       "4  2.830338e+10  2006-02-15 09:45:30  "
      ]
     },
     "execution_count": 74,
     "metadata": {},
     "output_type": "execute_result"
    }
   ],
   "source": [
    "df_dict['address'].head()"
   ]
  },
  {
   "cell_type": "code",
   "execution_count": 90,
   "id": "17c12c46-3604-4675-95c5-c45a1b1d9b29",
   "metadata": {},
   "outputs": [
    {
     "data": {
      "text/plain": [
       "-1"
      ]
     },
     "execution_count": 90,
     "metadata": {},
     "output_type": "execute_result"
    }
   ],
   "source": [
    "query_func(\n",
    "    db_name,\n",
    "\n",
    "   \"\"\"\n",
    "   CREATE TABLE address (\n",
    "       address_id INTEGER PRIMARY KEY,\n",
    "       address TEXT NOT NULL,\n",
    "       address2 TEXT,\n",
    "       distric TEXT,\n",
    "       city_id INTEGER NOT NULL,\n",
    "       postal_code TEXT,\n",
    "       phone TEXT,\n",
    "       last_update DATETIME DEFAULT CURRENT_TIMESTAMP,\n",
    "       FOREIGN KEY (city_id) REFERENCES city(city_id)\n",
    "   )\n",
    "\n",
    "   \"\"\"\n",
    "           \n",
    ")"
   ]
  },
  {
   "cell_type": "code",
   "execution_count": 91,
   "id": "22ccb1d1-6891-4ce0-bf5e-30a987c2b69a",
   "metadata": {},
   "outputs": [
    {
     "name": "stdout",
     "output_type": "stream",
     "text": [
      "<class 'pandas.core.frame.DataFrame'>\n",
      "RangeIndex: 16 entries, 0 to 15\n",
      "Data columns (total 3 columns):\n",
      " #   Column       Non-Null Count  Dtype \n",
      "---  ------       --------------  ----- \n",
      " 0   category_id  16 non-null     int64 \n",
      " 1   name         16 non-null     object\n",
      " 2   last_update  16 non-null     object\n",
      "dtypes: int64(1), object(2)\n",
      "memory usage: 516.0+ bytes\n"
     ]
    }
   ],
   "source": [
    "df_dict['category'].info()"
   ]
  },
  {
   "cell_type": "code",
   "execution_count": 92,
   "id": "6b9c55f4-6dfb-42be-9e10-1421fbc75163",
   "metadata": {},
   "outputs": [
    {
     "data": {
      "text/html": [
       "<div>\n",
       "<style scoped>\n",
       "    .dataframe tbody tr th:only-of-type {\n",
       "        vertical-align: middle;\n",
       "    }\n",
       "\n",
       "    .dataframe tbody tr th {\n",
       "        vertical-align: top;\n",
       "    }\n",
       "\n",
       "    .dataframe thead th {\n",
       "        text-align: right;\n",
       "    }\n",
       "</style>\n",
       "<table border=\"1\" class=\"dataframe\">\n",
       "  <thead>\n",
       "    <tr style=\"text-align: right;\">\n",
       "      <th></th>\n",
       "      <th>category_id</th>\n",
       "      <th>name</th>\n",
       "      <th>last_update</th>\n",
       "    </tr>\n",
       "  </thead>\n",
       "  <tbody>\n",
       "    <tr>\n",
       "      <th>0</th>\n",
       "      <td>1</td>\n",
       "      <td>Action</td>\n",
       "      <td>2006-02-15 09:46:27</td>\n",
       "    </tr>\n",
       "    <tr>\n",
       "      <th>1</th>\n",
       "      <td>2</td>\n",
       "      <td>Animation</td>\n",
       "      <td>2006-02-15 09:46:27</td>\n",
       "    </tr>\n",
       "    <tr>\n",
       "      <th>2</th>\n",
       "      <td>3</td>\n",
       "      <td>Children</td>\n",
       "      <td>2006-02-15 09:46:27</td>\n",
       "    </tr>\n",
       "    <tr>\n",
       "      <th>3</th>\n",
       "      <td>4</td>\n",
       "      <td>Classics</td>\n",
       "      <td>2006-02-15 09:46:27</td>\n",
       "    </tr>\n",
       "    <tr>\n",
       "      <th>4</th>\n",
       "      <td>5</td>\n",
       "      <td>Comedy</td>\n",
       "      <td>2006-02-15 09:46:27</td>\n",
       "    </tr>\n",
       "  </tbody>\n",
       "</table>\n",
       "</div>"
      ],
      "text/plain": [
       "   category_id       name          last_update\n",
       "0            1     Action  2006-02-15 09:46:27\n",
       "1            2  Animation  2006-02-15 09:46:27\n",
       "2            3   Children  2006-02-15 09:46:27\n",
       "3            4   Classics  2006-02-15 09:46:27\n",
       "4            5     Comedy  2006-02-15 09:46:27"
      ]
     },
     "execution_count": 92,
     "metadata": {},
     "output_type": "execute_result"
    }
   ],
   "source": [
    "df_dict['category'].head()"
   ]
  },
  {
   "cell_type": "code",
   "execution_count": 94,
   "id": "5fc81fd0-d392-4eca-8903-af38b25562c9",
   "metadata": {},
   "outputs": [
    {
     "data": {
      "text/plain": [
       "-1"
      ]
     },
     "execution_count": 94,
     "metadata": {},
     "output_type": "execute_result"
    }
   ],
   "source": [
    "query_func(\n",
    "    db_name,\n",
    "\n",
    "   \"\"\"\n",
    "   CREATE TABLE category (\n",
    "       category_id INTEGER PRIMARY KEY,\n",
    "       name TEXT NOT NULL,\n",
    "       last_update DATETIME DEFAULT CURRENT_TIMESTAMP\n",
    "   )\n",
    "\n",
    "   \"\"\"\n",
    "           \n",
    ")"
   ]
  },
  {
   "cell_type": "code",
   "execution_count": 100,
   "id": "6893d286-9404-40c9-a164-0cb5cadf6c2f",
   "metadata": {},
   "outputs": [
    {
     "name": "stdout",
     "output_type": "stream",
     "text": [
      "<class 'pandas.core.frame.DataFrame'>\n",
      "RangeIndex: 6 entries, 0 to 5\n",
      "Data columns (total 3 columns):\n",
      " #   Column       Non-Null Count  Dtype \n",
      "---  ------       --------------  ----- \n",
      " 0   language_id  6 non-null      int64 \n",
      " 1   name         6 non-null      object\n",
      " 2   last_update  6 non-null      object\n",
      "dtypes: int64(1), object(2)\n",
      "memory usage: 276.0+ bytes\n"
     ]
    }
   ],
   "source": [
    "df_dict['language'].info()"
   ]
  },
  {
   "cell_type": "code",
   "execution_count": 101,
   "id": "c8706376-f47a-4b97-93eb-0b81ee020fab",
   "metadata": {},
   "outputs": [
    {
     "data": {
      "text/html": [
       "<div>\n",
       "<style scoped>\n",
       "    .dataframe tbody tr th:only-of-type {\n",
       "        vertical-align: middle;\n",
       "    }\n",
       "\n",
       "    .dataframe tbody tr th {\n",
       "        vertical-align: top;\n",
       "    }\n",
       "\n",
       "    .dataframe thead th {\n",
       "        text-align: right;\n",
       "    }\n",
       "</style>\n",
       "<table border=\"1\" class=\"dataframe\">\n",
       "  <thead>\n",
       "    <tr style=\"text-align: right;\">\n",
       "      <th></th>\n",
       "      <th>language_id</th>\n",
       "      <th>name</th>\n",
       "      <th>last_update</th>\n",
       "    </tr>\n",
       "  </thead>\n",
       "  <tbody>\n",
       "    <tr>\n",
       "      <th>0</th>\n",
       "      <td>1</td>\n",
       "      <td>English</td>\n",
       "      <td>2006-02-15 10:02:19</td>\n",
       "    </tr>\n",
       "    <tr>\n",
       "      <th>1</th>\n",
       "      <td>2</td>\n",
       "      <td>Italian</td>\n",
       "      <td>2006-02-15 10:02:19</td>\n",
       "    </tr>\n",
       "    <tr>\n",
       "      <th>2</th>\n",
       "      <td>3</td>\n",
       "      <td>Japanese</td>\n",
       "      <td>2006-02-15 10:02:19</td>\n",
       "    </tr>\n",
       "    <tr>\n",
       "      <th>3</th>\n",
       "      <td>4</td>\n",
       "      <td>Mandarin</td>\n",
       "      <td>2006-02-15 10:02:19</td>\n",
       "    </tr>\n",
       "    <tr>\n",
       "      <th>4</th>\n",
       "      <td>5</td>\n",
       "      <td>French</td>\n",
       "      <td>2006-02-15 10:02:19</td>\n",
       "    </tr>\n",
       "  </tbody>\n",
       "</table>\n",
       "</div>"
      ],
      "text/plain": [
       "   language_id                  name          last_update\n",
       "0            1  English               2006-02-15 10:02:19\n",
       "1            2  Italian               2006-02-15 10:02:19\n",
       "2            3  Japanese              2006-02-15 10:02:19\n",
       "3            4  Mandarin              2006-02-15 10:02:19\n",
       "4            5  French                2006-02-15 10:02:19"
      ]
     },
     "execution_count": 101,
     "metadata": {},
     "output_type": "execute_result"
    }
   ],
   "source": [
    "df_dict['language'].head()"
   ]
  },
  {
   "cell_type": "code",
   "execution_count": 102,
   "id": "58d1893f-89de-4ff3-b252-0097af1dfa21",
   "metadata": {},
   "outputs": [
    {
     "data": {
      "text/plain": [
       "-1"
      ]
     },
     "execution_count": 102,
     "metadata": {},
     "output_type": "execute_result"
    }
   ],
   "source": [
    "query_func(\n",
    "    db_name,\n",
    "\n",
    "   \"\"\"\n",
    "   CREATE TABLE language (\n",
    "       language_id INTEGER PRIMARY KEY,\n",
    "       name TEXT NOT NULL,\n",
    "       last_update DATETIME DEFAULT CURRENT_TIMESTAMP\n",
    "   );\n",
    "\n",
    "   \"\"\"\n",
    "           \n",
    ")"
   ]
  },
  {
   "cell_type": "code",
   "execution_count": 120,
   "id": "1d345436-4e8e-475d-b50b-e98bc255ce9c",
   "metadata": {},
   "outputs": [
    {
     "data": {
      "text/plain": [
       "['G', 'NC-17', 'PG', 'PG-13', 'R']"
      ]
     },
     "execution_count": 120,
     "metadata": {},
     "output_type": "execute_result"
    }
   ],
   "source": [
    "chk = df_dict['film'].drop_duplicates('rating')\n",
    "\n",
    "chk2 = sorted(chk['rating'].values)\n",
    "chk2"
   ]
  },
  {
   "cell_type": "code",
   "execution_count": 109,
   "id": "255e1f06-1b1f-4e1d-8c29-472aae1f4e3c",
   "metadata": {},
   "outputs": [
    {
     "data": {
      "text/html": [
       "<div>\n",
       "<style scoped>\n",
       "    .dataframe tbody tr th:only-of-type {\n",
       "        vertical-align: middle;\n",
       "    }\n",
       "\n",
       "    .dataframe tbody tr th {\n",
       "        vertical-align: top;\n",
       "    }\n",
       "\n",
       "    .dataframe thead th {\n",
       "        text-align: right;\n",
       "    }\n",
       "</style>\n",
       "<table border=\"1\" class=\"dataframe\">\n",
       "  <thead>\n",
       "    <tr style=\"text-align: right;\">\n",
       "      <th></th>\n",
       "      <th>film_id</th>\n",
       "      <th>title</th>\n",
       "      <th>description</th>\n",
       "      <th>release_year</th>\n",
       "      <th>language_id</th>\n",
       "      <th>rental_duration</th>\n",
       "      <th>rental_rate</th>\n",
       "      <th>length</th>\n",
       "      <th>replacement_cost</th>\n",
       "      <th>rating</th>\n",
       "      <th>last_update</th>\n",
       "      <th>special_features</th>\n",
       "      <th>fulltext</th>\n",
       "    </tr>\n",
       "  </thead>\n",
       "  <tbody>\n",
       "    <tr>\n",
       "      <th>0</th>\n",
       "      <td>133</td>\n",
       "      <td>Chamber Italian</td>\n",
       "      <td>A Fateful Reflection of a Moose And a Husband ...</td>\n",
       "      <td>2006</td>\n",
       "      <td>1</td>\n",
       "      <td>7</td>\n",
       "      <td>4.99</td>\n",
       "      <td>117</td>\n",
       "      <td>14.99</td>\n",
       "      <td>NC-17</td>\n",
       "      <td>2013-05-26 14:50:58.951</td>\n",
       "      <td>{Trailers}</td>\n",
       "      <td>'chamber':1 'fate':4 'husband':11 'italian':2 ...</td>\n",
       "    </tr>\n",
       "    <tr>\n",
       "      <th>1</th>\n",
       "      <td>384</td>\n",
       "      <td>Grosse Wonderful</td>\n",
       "      <td>A Epic Drama of a Cat And a Explorer who must ...</td>\n",
       "      <td>2006</td>\n",
       "      <td>1</td>\n",
       "      <td>5</td>\n",
       "      <td>4.99</td>\n",
       "      <td>49</td>\n",
       "      <td>19.99</td>\n",
       "      <td>R</td>\n",
       "      <td>2013-05-26 14:50:58.951</td>\n",
       "      <td>{\"Behind the Scenes\"}</td>\n",
       "      <td>'australia':18 'cat':8 'drama':5 'epic':4 'exp...</td>\n",
       "    </tr>\n",
       "    <tr>\n",
       "      <th>2</th>\n",
       "      <td>8</td>\n",
       "      <td>Airport Pollock</td>\n",
       "      <td>A Epic Tale of a Moose And a Girl who must Con...</td>\n",
       "      <td>2006</td>\n",
       "      <td>1</td>\n",
       "      <td>6</td>\n",
       "      <td>4.99</td>\n",
       "      <td>54</td>\n",
       "      <td>15.99</td>\n",
       "      <td>R</td>\n",
       "      <td>2013-05-26 14:50:58.951</td>\n",
       "      <td>{Trailers}</td>\n",
       "      <td>'airport':1 'ancient':18 'confront':14 'epic':...</td>\n",
       "    </tr>\n",
       "    <tr>\n",
       "      <th>3</th>\n",
       "      <td>98</td>\n",
       "      <td>Bright Encounters</td>\n",
       "      <td>A Fateful Yarn of a Lumberjack And a Feminist ...</td>\n",
       "      <td>2006</td>\n",
       "      <td>1</td>\n",
       "      <td>4</td>\n",
       "      <td>4.99</td>\n",
       "      <td>73</td>\n",
       "      <td>12.99</td>\n",
       "      <td>PG-13</td>\n",
       "      <td>2013-05-26 14:50:58.951</td>\n",
       "      <td>{Trailers}</td>\n",
       "      <td>'boat':20 'bright':1 'conquer':14 'encount':2 ...</td>\n",
       "    </tr>\n",
       "    <tr>\n",
       "      <th>4</th>\n",
       "      <td>1</td>\n",
       "      <td>Academy Dinosaur</td>\n",
       "      <td>A Epic Drama of a Feminist And a Mad Scientist...</td>\n",
       "      <td>2006</td>\n",
       "      <td>1</td>\n",
       "      <td>6</td>\n",
       "      <td>0.99</td>\n",
       "      <td>86</td>\n",
       "      <td>20.99</td>\n",
       "      <td>PG</td>\n",
       "      <td>2013-05-26 14:50:58.951</td>\n",
       "      <td>{\"Deleted Scenes\",\"Behind the Scenes\"}</td>\n",
       "      <td>'academi':1 'battl':15 'canadian':20 'dinosaur...</td>\n",
       "    </tr>\n",
       "  </tbody>\n",
       "</table>\n",
       "</div>"
      ],
      "text/plain": [
       "   film_id              title  \\\n",
       "0      133    Chamber Italian   \n",
       "1      384   Grosse Wonderful   \n",
       "2        8    Airport Pollock   \n",
       "3       98  Bright Encounters   \n",
       "4        1   Academy Dinosaur   \n",
       "\n",
       "                                         description  release_year  \\\n",
       "0  A Fateful Reflection of a Moose And a Husband ...          2006   \n",
       "1  A Epic Drama of a Cat And a Explorer who must ...          2006   \n",
       "2  A Epic Tale of a Moose And a Girl who must Con...          2006   \n",
       "3  A Fateful Yarn of a Lumberjack And a Feminist ...          2006   \n",
       "4  A Epic Drama of a Feminist And a Mad Scientist...          2006   \n",
       "\n",
       "   language_id  rental_duration  rental_rate  length  replacement_cost rating  \\\n",
       "0            1                7         4.99     117             14.99  NC-17   \n",
       "1            1                5         4.99      49             19.99      R   \n",
       "2            1                6         4.99      54             15.99      R   \n",
       "3            1                4         4.99      73             12.99  PG-13   \n",
       "4            1                6         0.99      86             20.99     PG   \n",
       "\n",
       "               last_update                        special_features  \\\n",
       "0  2013-05-26 14:50:58.951                              {Trailers}   \n",
       "1  2013-05-26 14:50:58.951                   {\"Behind the Scenes\"}   \n",
       "2  2013-05-26 14:50:58.951                              {Trailers}   \n",
       "3  2013-05-26 14:50:58.951                              {Trailers}   \n",
       "4  2013-05-26 14:50:58.951  {\"Deleted Scenes\",\"Behind the Scenes\"}   \n",
       "\n",
       "                                            fulltext  \n",
       "0  'chamber':1 'fate':4 'husband':11 'italian':2 ...  \n",
       "1  'australia':18 'cat':8 'drama':5 'epic':4 'exp...  \n",
       "2  'airport':1 'ancient':18 'confront':14 'epic':...  \n",
       "3  'boat':20 'bright':1 'conquer':14 'encount':2 ...  \n",
       "4  'academi':1 'battl':15 'canadian':20 'dinosaur...  "
      ]
     },
     "execution_count": 109,
     "metadata": {},
     "output_type": "execute_result"
    }
   ],
   "source": [
    "df_dict['film'].head()"
   ]
  },
  {
   "cell_type": "code",
   "execution_count": 103,
   "id": "c6fa98a1-979d-487b-91db-c9f7a60a1b49",
   "metadata": {
    "scrolled": true
   },
   "outputs": [
    {
     "name": "stdout",
     "output_type": "stream",
     "text": [
      "<class 'pandas.core.frame.DataFrame'>\n",
      "RangeIndex: 1000 entries, 0 to 999\n",
      "Data columns (total 13 columns):\n",
      " #   Column            Non-Null Count  Dtype  \n",
      "---  ------            --------------  -----  \n",
      " 0   film_id           1000 non-null   int64  \n",
      " 1   title             1000 non-null   object \n",
      " 2   description       1000 non-null   object \n",
      " 3   release_year      1000 non-null   int64  \n",
      " 4   language_id       1000 non-null   int64  \n",
      " 5   rental_duration   1000 non-null   int64  \n",
      " 6   rental_rate       1000 non-null   float64\n",
      " 7   length            1000 non-null   int64  \n",
      " 8   replacement_cost  1000 non-null   float64\n",
      " 9   rating            1000 non-null   object \n",
      " 10  last_update       1000 non-null   object \n",
      " 11  special_features  1000 non-null   object \n",
      " 12  fulltext          1000 non-null   object \n",
      "dtypes: float64(2), int64(5), object(6)\n",
      "memory usage: 101.7+ KB\n"
     ]
    }
   ],
   "source": [
    "df_dict['film'].info()"
   ]
  },
  {
   "cell_type": "code",
   "execution_count": 121,
   "id": "b9dde9c9-edc8-4117-b27d-a10931881161",
   "metadata": {},
   "outputs": [
    {
     "data": {
      "text/plain": [
       "-1"
      ]
     },
     "execution_count": 121,
     "metadata": {},
     "output_type": "execute_result"
    }
   ],
   "source": [
    "query_func(\n",
    "    db_name,\n",
    "\n",
    "   \"\"\"\n",
    "   CREATE TABLE film (\n",
    "       film_id INTEGER PRIMARY KEY,\n",
    "       title TEXT NOT NULL,\n",
    "       description TEXT NOT NULL,\n",
    "       release_year INTEGER NOT NULL,\n",
    "       language_id INTEGER NOT NULL,\n",
    "       rental_duration INTEGER NOT NULL CHECK (rental_duration > 0),\n",
    "       rental_rate REAL NOT NULL CHECK (rental_rate > 0),\n",
    "       length INTEGER NOT NULL CHECK (length > 0),\n",
    "       replacement_cost REAL NOT NULL CHECK (replacement_cost >= rental_rate),\n",
    "       rating TEXT NOT NULL CHECK (rating IN ('G', 'NC-17', 'PG', 'PG-13', 'R')),\n",
    "       last_update DATETIME DEFAULT CURRENT_TIMESTAMP,\n",
    "       special_features TEXT,\n",
    "       fulltext TEXT,\n",
    "       FOREIGN KEY (language_id) REFERENCES language (language_id)\n",
    "   );\n",
    "\n",
    "   \"\"\"\n",
    "           \n",
    ")"
   ]
  },
  {
   "cell_type": "code",
   "execution_count": 123,
   "id": "723a97eb-05b5-4feb-9cef-9beffc1ef8b5",
   "metadata": {},
   "outputs": [
    {
     "name": "stdout",
     "output_type": "stream",
     "text": [
      "<class 'pandas.core.frame.DataFrame'>\n",
      "RangeIndex: 5462 entries, 0 to 5461\n",
      "Data columns (total 3 columns):\n",
      " #   Column       Non-Null Count  Dtype \n",
      "---  ------       --------------  ----- \n",
      " 0   actor_id     5462 non-null   int64 \n",
      " 1   film_id      5462 non-null   int64 \n",
      " 2   last_update  5462 non-null   object\n",
      "dtypes: int64(2), object(1)\n",
      "memory usage: 128.1+ KB\n"
     ]
    }
   ],
   "source": [
    "df_dict['film_actor'].info()"
   ]
  },
  {
   "cell_type": "code",
   "execution_count": 124,
   "id": "719b17b1-7ee9-4328-992c-1f954cc4e5fa",
   "metadata": {},
   "outputs": [
    {
     "data": {
      "text/plain": [
       "-1"
      ]
     },
     "execution_count": 124,
     "metadata": {},
     "output_type": "execute_result"
    }
   ],
   "source": [
    "query_func(\n",
    "    db_name,\n",
    "\n",
    "   \"\"\"\n",
    "   CREATE TABLE film_actor (\n",
    "       actor_id INTEGER PRIMARY KEY,\n",
    "       film_id INTEGER NOT NULL,\n",
    "       last_update DATETIME DEFAULT CURRENT_TIMESTAMP,\n",
    "       FOREIGN KEY (film_id) REFERENCES film(film_id)\n",
    "   );\n",
    "\n",
    "   \"\"\"\n",
    "           \n",
    ")"
   ]
  },
  {
   "cell_type": "code",
   "execution_count": 125,
   "id": "425abc00-e235-4ba5-92e9-c0be14d7a7d9",
   "metadata": {},
   "outputs": [
    {
     "name": "stdout",
     "output_type": "stream",
     "text": [
      "<class 'pandas.core.frame.DataFrame'>\n",
      "RangeIndex: 1000 entries, 0 to 999\n",
      "Data columns (total 3 columns):\n",
      " #   Column       Non-Null Count  Dtype \n",
      "---  ------       --------------  ----- \n",
      " 0   film_id      1000 non-null   int64 \n",
      " 1   category_id  1000 non-null   int64 \n",
      " 2   last_update  1000 non-null   object\n",
      "dtypes: int64(2), object(1)\n",
      "memory usage: 23.6+ KB\n"
     ]
    }
   ],
   "source": [
    "df_dict['film_category'].info()"
   ]
  },
  {
   "cell_type": "code",
   "execution_count": 136,
   "id": "6603ffb9-4fd1-40d9-9868-fa64650486dc",
   "metadata": {},
   "outputs": [
    {
     "data": {
      "text/plain": [
       "-1"
      ]
     },
     "execution_count": 136,
     "metadata": {},
     "output_type": "execute_result"
    }
   ],
   "source": [
    "query_func(\n",
    "    db_name,\n",
    "\n",
    "   \"\"\"\n",
    "   CREATE TABLE film_category (\n",
    "       film_id INTEGER PRIMARY KEY,\n",
    "       category_id INTEGER NOT NULL,\n",
    "       last_update DATETIME DEFAULT CURRENT_TIMESTAMP,\n",
    "       FOREIGN KEY (film_id) REFERENCES film(film_id),\n",
    "       FOREIGN KEY (category_id) REFERENCES category(category_id)\n",
    "   );\n",
    "\n",
    "   \"\"\"\n",
    "           \n",
    ")"
   ]
  },
  {
   "cell_type": "code",
   "execution_count": 140,
   "id": "f139c94f-ec3a-40b4-bcb7-ffd068aaff74",
   "metadata": {},
   "outputs": [
    {
     "name": "stdout",
     "output_type": "stream",
     "text": [
      "<class 'pandas.core.frame.DataFrame'>\n",
      "RangeIndex: 2 entries, 0 to 1\n",
      "Data columns (total 11 columns):\n",
      " #   Column       Non-Null Count  Dtype \n",
      "---  ------       --------------  ----- \n",
      " 0   staff_id     2 non-null      int64 \n",
      " 1   first_name   2 non-null      object\n",
      " 2   last_name    2 non-null      object\n",
      " 3   address_id   2 non-null      int64 \n",
      " 4   email        2 non-null      object\n",
      " 5   store_id     2 non-null      int64 \n",
      " 6   active       2 non-null      int64 \n",
      " 7   username     2 non-null      object\n",
      " 8   password     2 non-null      object\n",
      " 9   last_update  2 non-null      object\n",
      " 10  picture      1 non-null      object\n",
      "dtypes: int64(4), object(7)\n",
      "memory usage: 308.0+ bytes\n"
     ]
    }
   ],
   "source": [
    "df_dict['staff'].info()"
   ]
  },
  {
   "cell_type": "markdown",
   "id": "765c6a13-e0b7-4e9d-991c-1d4e3e4b952a",
   "metadata": {
    "jp-MarkdownHeadingCollapsed": true
   },
   "source": [
    "#### 3. INSERT INTO and SELECT to move all rows from the old tables to the new ones\n",
    "\n",
    "We arrived to the step at which we need to copy all the contents from the old tables to the new ones. This is achieved using a for loop and INSERT INTO each new able and using SELECT * from the old tables. \n",
    "\n",
    "We opted not to use the function this time, because we want to do it in one connection all at once and avoid inefficiencies."
   ]
  },
  {
   "cell_type": "code",
   "execution_count": null,
   "id": "dc936a34-7870-4d86-942b-a1622a255079",
   "metadata": {},
   "outputs": [],
   "source": [
    "for table in tables_clean:\n",
    "    query_func(\n",
    "        db_name,\n",
    "        \n",
    "        f\"\"\"\n",
    "        INSERT INTO {table}\n",
    "        SELECT * FROM {table}_old\n",
    "        \n",
    "        \"\"\"\n",
    "    )"
   ]
  },
  {
   "cell_type": "markdown",
   "id": "821c1f31-aa7a-4af9-8674-97844f79633c",
   "metadata": {},
   "source": [
    "#### 4. DROP TABLE to remove the previous versions of the tables.\n",
    "\n",
    "After making sure our new tables are correct, we can then use a for loop to DROP the old versions."
   ]
  },
  {
   "cell_type": "code",
   "execution_count": null,
   "id": "a94fcbb6-5673-4b89-8467-95d52704e798",
   "metadata": {},
   "outputs": [],
   "source": []
  }
 ],
 "metadata": {
  "kernelspec": {
   "display_name": "Python 3 (ipykernel)",
   "language": "python",
   "name": "python3"
  },
  "language_info": {
   "codemirror_mode": {
    "name": "ipython",
    "version": 3
   },
   "file_extension": ".py",
   "mimetype": "text/x-python",
   "name": "python",
   "nbconvert_exporter": "python",
   "pygments_lexer": "ipython3",
   "version": "3.13.5"
  }
 },
 "nbformat": 4,
 "nbformat_minor": 5
}
