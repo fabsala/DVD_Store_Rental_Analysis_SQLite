{
 "cells": [
  {
   "cell_type": "code",
   "execution_count": 27,
   "id": "2b3de087-d99c-444d-95b5-108abcc3a0b6",
   "metadata": {},
   "outputs": [],
   "source": [
    "import sqlite3 as sql\n",
    "import pandas as pd\n",
    "import glob as glob\n",
    "import os\n",
    "import zipfile"
   ]
  },
  {
   "cell_type": "code",
   "execution_count": 65,
   "id": "c0bf8e9f-a36f-4481-b15b-eb74768d615b",
   "metadata": {},
   "outputs": [],
   "source": [
    "# dest_folder = '\\\\Databases'"
   ]
  },
  {
   "cell_type": "code",
   "execution_count": 61,
   "id": "92659a39-c137-44c3-9979-4e10ffd7703d",
   "metadata": {},
   "outputs": [],
   "source": [
    "db_name = \"dvdrental.db\""
   ]
  },
  {
   "cell_type": "code",
   "execution_count": 62,
   "id": "ca1042af-530d-4970-8a6c-a96c684804fe",
   "metadata": {},
   "outputs": [],
   "source": [
    "origin = \"csv_zip.zip\""
   ]
  },
  {
   "cell_type": "code",
   "execution_count": 63,
   "id": "59ad5269-91fd-45b6-9178-c8e65f3494ed",
   "metadata": {},
   "outputs": [
    {
     "name": "stdout",
     "output_type": "stream",
     "text": [
      "Loaded country.csv into table country\n",
      "Loaded film_category.csv into table film_category\n",
      "Loaded store.csv into table store\n",
      "Loaded staff.csv into table staff\n",
      "Loaded film.csv into table film\n",
      "Loaded city.csv into table city\n",
      "Loaded address.csv into table address\n",
      "Loaded customer.csv into table customer\n",
      "Loaded inventory.csv into table inventory\n",
      "Loaded category.csv into table category\n",
      "Loaded actor.csv into table actor\n",
      "Loaded language.csv into table language\n",
      "Loaded film_actor.csv into table film_actor\n",
      "Loaded rental.csv into table rental\n"
     ]
    }
   ],
   "source": [
    "#with sql.connect(os.path.join(dest_folder, db_name)) as conn:\n",
    "with sql.connect(db_name) as conn:\n",
    "    # df_dict = {}\n",
    "    with zipfile.ZipFile(origin) as z:\n",
    "        for file_name in z.namelist():\n",
    "            if file_name.endswith('.csv'):\n",
    "                table = os.path.splitext(file_name)[0]\n",
    "                with z.open(file_name) as f:\n",
    "                    df = pd.read_csv(f)\n",
    "                    df.to_sql(table, conn, if_exists='replace', index=False)\n",
    "                    # df_dict[os.path.splitext(file_name)[0]] = pd.read_csv(f)\n",
    "                    print(f'Loaded {file_name} into table {table}')"
   ]
  },
  {
   "cell_type": "code",
   "execution_count": 66,
   "id": "d0bed092-bbcd-4c0b-bd21-d7e0a5b61593",
   "metadata": {},
   "outputs": [],
   "source": [
    "# db = os.path.join(dest_folder, db_name)"
   ]
  },
  {
   "cell_type": "code",
   "execution_count": 67,
   "id": "3dd68d97-7a41-4542-8053-1135c5f29194",
   "metadata": {},
   "outputs": [
    {
     "name": "stdout",
     "output_type": "stream",
     "text": [
      "Tables in db:\n",
      "- country\n",
      "- film_category\n",
      "- store\n",
      "- staff\n",
      "- film\n",
      "- city\n",
      "- address\n",
      "- customer\n",
      "- inventory\n",
      "- category\n",
      "- actor\n",
      "- language\n",
      "- film_actor\n",
      "- rental\n"
     ]
    }
   ],
   "source": [
    "with sql.connect(db_name) as conn:\n",
    "    cursor = conn.cursor()\n",
    "    cursor.execute(\"SELECT name FROM sqlite_master WHERE type = 'table';\")\n",
    "    tables = cursor.fetchall()\n",
    "\n",
    "    print(\"Tables in db:\")\n",
    "\n",
    "    for table in tables:\n",
    "        print(\"-\", table[0])"
   ]
  },
  {
   "cell_type": "code",
   "execution_count": null,
   "id": "f402f6e5-e231-470b-a76c-324e2bc2b2be",
   "metadata": {},
   "outputs": [],
   "source": [
    "def query_func(dbase, query):\n",
    "    with sql.connect(dbase) as conn:\n",
    "        cursor = conn.cursor()\n",
    "        cursor.execute(query)\n",
    "        return cursor.fetchall()\n",
    "    "
   ]
  }
 ],
 "metadata": {
  "kernelspec": {
   "display_name": "Python 3 (ipykernel)",
   "language": "python",
   "name": "python3"
  },
  "language_info": {
   "codemirror_mode": {
    "name": "ipython",
    "version": 3
   },
   "file_extension": ".py",
   "mimetype": "text/x-python",
   "name": "python",
   "nbconvert_exporter": "python",
   "pygments_lexer": "ipython3",
   "version": "3.13.5"
  }
 },
 "nbformat": 4,
 "nbformat_minor": 5
}
